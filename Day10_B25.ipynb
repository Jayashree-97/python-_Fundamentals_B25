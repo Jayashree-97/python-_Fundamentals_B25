{
 "cells": [
  {
   "cell_type": "code",
   "execution_count": null,
   "metadata": {},
   "outputs": [],
   "source": [
    "#dictionaries"
   ]
  },
  {
   "cell_type": "code",
   "execution_count": 3,
   "metadata": {},
   "outputs": [
    {
     "name": "stdout",
     "output_type": "stream",
     "text": [
      "{'username': 'malanimaheyda', 'firstname': 'malani', 'name': 'maheyda', 'dob': '02-01-2020'}\n"
     ]
    }
   ],
   "source": [
    "user={'username':'malanimaheyda','firstname':'malani','name':'maheyda','dob':'02-01-2020'}\n",
    "print(user)"
   ]
  },
  {
   "cell_type": "code",
   "execution_count": 4,
   "metadata": {},
   "outputs": [
    {
     "data": {
      "text/plain": [
       "dict"
      ]
     },
     "execution_count": 4,
     "metadata": {},
     "output_type": "execute_result"
    }
   ],
   "source": [
    "type(user)"
   ]
  },
  {
   "cell_type": "code",
   "execution_count": 9,
   "metadata": {},
   "outputs": [
    {
     "name": "stdout",
     "output_type": "stream",
     "text": [
      "username\n",
      "malanimaheyda\n",
      "firstname\n",
      "malani\n",
      "name\n",
      "maheyda\n",
      "dob\n",
      "02-01-2020\n"
     ]
    }
   ],
   "source": [
    "for k,v in user.items():\n",
    "    print(k)\n",
    "    print(v)"
   ]
  },
  {
   "cell_type": "code",
   "execution_count": 13,
   "metadata": {},
   "outputs": [
    {
     "name": "stdout",
     "output_type": "stream",
     "text": [
      "key:username\n",
      "value:malanimaheyda\n",
      "\n",
      "key:firstname\n",
      "value:malani\n",
      "\n",
      "key:name\n",
      "value:maheyda\n",
      "\n",
      "key:dob\n",
      "value:02-01-2020\n",
      "\n"
     ]
    }
   ],
   "source": [
    "for x,y in user.items():\n",
    "    print(f\"key:{x}\")\n",
    "    print(f\"value:{y}\\n\")"
   ]
  },
  {
   "cell_type": "code",
   "execution_count": 14,
   "metadata": {},
   "outputs": [
    {
     "name": "stdout",
     "output_type": "stream",
     "text": [
      "username\n",
      "firstname\n",
      "name\n",
      "dob\n"
     ]
    }
   ],
   "source": [
    "for x in user.keys():\n",
    "    print(x)"
   ]
  },
  {
   "cell_type": "code",
   "execution_count": 15,
   "metadata": {},
   "outputs": [
    {
     "name": "stdout",
     "output_type": "stream",
     "text": [
      "keys:username\n",
      "keys:firstname\n",
      "keys:name\n",
      "keys:dob\n"
     ]
    }
   ],
   "source": [
    "for x in user.keys():\n",
    "    print(f\"keys:{x}\")"
   ]
  },
  {
   "cell_type": "code",
   "execution_count": 18,
   "metadata": {},
   "outputs": [
    {
     "name": "stdout",
     "output_type": "stream",
     "text": [
      "values:malanimaheyda\n",
      "values:malani\n",
      "values:maheyda\n",
      "values:02-01-2020\n"
     ]
    }
   ],
   "source": [
    "for y in user.values():\n",
    "    print(f\"values:{y}\")"
   ]
  },
  {
   "cell_type": "code",
   "execution_count": 19,
   "metadata": {},
   "outputs": [
    {
     "name": "stdout",
     "output_type": "stream",
     "text": [
      "values:malanimaheyda\n",
      "values:malani\n",
      "values:maheyda\n",
      "values:02-01-2020\n"
     ]
    }
   ],
   "source": [
    "for x in user.values():\n",
    "    print(f\"values:{x}\")"
   ]
  },
  {
   "cell_type": "code",
   "execution_count": null,
   "metadata": {},
   "outputs": [],
   "source": []
  }
 ],
 "metadata": {
  "kernelspec": {
   "display_name": "Python 3",
   "language": "python",
   "name": "python3"
  },
  "language_info": {
   "codemirror_mode": {
    "name": "ipython",
    "version": 3
   },
   "file_extension": ".py",
   "mimetype": "text/x-python",
   "name": "python",
   "nbconvert_exporter": "python",
   "pygments_lexer": "ipython3",
   "version": "3.7.6"
  }
 },
 "nbformat": 4,
 "nbformat_minor": 4
}
