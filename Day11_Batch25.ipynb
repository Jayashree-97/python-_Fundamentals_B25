{
 "cells": [
  {
   "cell_type": "code",
   "execution_count": null,
   "metadata": {},
   "outputs": [],
   "source": [
    "Introducation to conditional statements"
   ]
  },
  {
   "cell_type": "code",
   "execution_count": null,
   "metadata": {},
   "outputs": [],
   "source": [
    "if else conndition"
   ]
  },
  {
   "cell_type": "code",
   "execution_count": 9,
   "metadata": {},
   "outputs": [
    {
     "name": "stdout",
     "output_type": "stream",
     "text": [
      "your are eligible to vote\n"
     ]
    }
   ],
   "source": [
    "age=19\n",
    "if age>=18:\n",
    "    print('your are eligible to vote')\n",
    "else: \n",
    "    print('sorry,you are too yong to vote')"
   ]
  },
  {
   "cell_type": "code",
   "execution_count": 10,
   "metadata": {},
   "outputs": [
    {
     "name": "stdout",
     "output_type": "stream",
     "text": [
      "sorry,you are too yong to vote\n"
     ]
    }
   ],
   "source": [
    "age=13\n",
    "if age>=18:\n",
    "    print('your are eligible to vote')\n",
    "else: \n",
    "    print('sorry,you are too yong to vote')"
   ]
  },
  {
   "cell_type": "code",
   "execution_count": 16,
   "metadata": {},
   "outputs": [
    {
     "name": "stdout",
     "output_type": "stream",
     "text": [
      "sorry,you are too yong to vote\n"
     ]
    }
   ],
   "source": [
    "age=11\n",
    "if age<=10:\n",
    "    print('your are eligible to vote')\n",
    "elif age <=20: \n",
    "    print('sorry,you are too yong to vote')\n",
    "else:\n",
    "    print('your are young to vote')"
   ]
  },
  {
   "cell_type": "code",
   "execution_count": null,
   "metadata": {},
   "outputs": [],
   "source": [
    "understanding the user accepted input"
   ]
  },
  {
   "cell_type": "code",
   "execution_count": 18,
   "metadata": {},
   "outputs": [
    {
     "name": "stdout",
     "output_type": "stream",
     "text": [
      "tell me somthinng and i will repeat it back for you!pragana\n",
      "pragana\n"
     ]
    }
   ],
   "source": [
    "message=input(\"tell me somthinng and i will repeat it back for you!\")\n",
    "print(message)"
   ]
  },
  {
   "cell_type": "markdown",
   "metadata": {},
   "source": []
  },
  {
   "cell_type": "code",
   "execution_count": 22,
   "metadata": {},
   "outputs": [
    {
     "name": "stdout",
     "output_type": "stream",
     "text": [
      "please enter your name:ram\n",
      "Helloram\n"
     ]
    }
   ],
   "source": [
    "message=input(\"please enter your name:\")\n",
    "print(f\"Hello{message}\")"
   ]
  },
  {
   "cell_type": "code",
   "execution_count": 23,
   "metadata": {},
   "outputs": [
    {
     "name": "stdout",
     "output_type": "stream",
     "text": [
      "please enter your name:kali\n",
      "\n",
      "Hellokali\n"
     ]
    }
   ],
   "source": [
    "message=input(\"please enter your name:\")\n",
    "print(f\"\\nHello{message}\")"
   ]
  },
  {
   "cell_type": "code",
   "execution_count": 25,
   "metadata": {},
   "outputs": [
    {
     "name": "stdout",
     "output_type": "stream",
     "text": [
      "if you tell us who you are,we can personalize the massage for youwhat is your namenarmada\n"
     ]
    }
   ],
   "source": [
    "promt=\"if you tell us who you are,we can personalize the massage for you\"\n",
    "promt+=\"what is your name\"\n",
    "name=input(promt)\n"
   ]
  },
  {
   "cell_type": "code",
   "execution_count": null,
   "metadata": {},
   "outputs": [],
   "source": [
    "print(f\"\\n hello,{name}\")"
   ]
  },
  {
   "cell_type": "code",
   "execution_count": null,
   "metadata": {},
   "outputs": [],
   "source": []
  }
 ],
 "metadata": {
  "kernelspec": {
   "display_name": "Python 3",
   "language": "python",
   "name": "python3"
  },
  "language_info": {
   "codemirror_mode": {
    "name": "ipython",
    "version": 3
   },
   "file_extension": ".py",
   "mimetype": "text/x-python",
   "name": "python",
   "nbconvert_exporter": "python",
   "pygments_lexer": "ipython3",
   "version": "3.7.6"
  }
 },
 "nbformat": 4,
 "nbformat_minor": 4
}
