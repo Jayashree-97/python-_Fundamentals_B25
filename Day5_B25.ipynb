{
 "cells": [
  {
   "cell_type": "code",
   "execution_count": 1,
   "metadata": {},
   "outputs": [
    {
     "name": "stdout",
     "output_type": "stream",
     "text": [
      "['jyothshna', 'jaya', 'raju', 'rani', 'sai', 'ram']\n"
     ]
    }
   ],
   "source": [
    "students=['jyothshna','jaya','raju','rani','sai','ram']\n",
    "print(students)"
   ]
  },
  {
   "cell_type": "code",
   "execution_count": 2,
   "metadata": {},
   "outputs": [
    {
     "data": {
      "text/plain": [
       "list"
      ]
     },
     "execution_count": 2,
     "metadata": {},
     "output_type": "execute_result"
    }
   ],
   "source": [
    "type(students)"
   ]
  },
  {
   "cell_type": "code",
   "execution_count": 3,
   "metadata": {},
   "outputs": [
    {
     "name": "stdout",
     "output_type": "stream",
     "text": [
      "keep good work {'raju'}\n"
     ]
    }
   ],
   "source": [
    "print(f\"keep good work\",{students[2]})"
   ]
  },
  {
   "cell_type": "code",
   "execution_count": 9,
   "metadata": {},
   "outputs": [
    {
     "name": "stdout",
     "output_type": "stream",
     "text": [
      "jyothshna\n",
      "jaya\n",
      "raju\n",
      "rani\n",
      "sai\n",
      "ram\n"
     ]
    }
   ],
   "source": [
    "for x in students:\n",
    "     print(x)"
   ]
  },
  {
   "cell_type": "code",
   "execution_count": 13,
   "metadata": {},
   "outputs": [
    {
     "name": "stdout",
     "output_type": "stream",
     "text": [
      "keep up good work,jyothshna\n",
      "keep up good work,jaya\n",
      "keep up good work,raju\n",
      "keep up good work,rani\n",
      "keep up good work,sai\n",
      "keep up good work,ram\n"
     ]
    }
   ],
   "source": [
    "for x in students:\n",
    "    print(f\"keep up good work,{x}\")"
   ]
  },
  {
   "cell_type": "code",
   "execution_count": 17,
   "metadata": {},
   "outputs": [
    {
     "name": "stdout",
     "output_type": "stream",
     "text": [
      "keep up good work,jyothshna\n",
      "good luck,jyothshna\n",
      "keep up good work,jaya\n",
      "good luck,jaya\n",
      "keep up good work,raju\n",
      "good luck,raju\n",
      "keep up good work,rani\n",
      "good luck,rani\n",
      "keep up good work,sai\n",
      "good luck,sai\n",
      "keep up good work,ram\n",
      "good luck,ram\n"
     ]
    }
   ],
   "source": [
    "for x in students:\n",
    "    print(f\"keep up good work,{x}\")\n",
    "    print(f\"good luck,{x}\")   "
   ]
  },
  {
   "cell_type": "code",
   "execution_count": 18,
   "metadata": {},
   "outputs": [
    {
     "name": "stdout",
     "output_type": "stream",
     "text": [
      "['jyothshna', 'jaya', 'raju', 'rani', 'sai', 'ram']\n"
     ]
    }
   ],
   "source": [
    "print(students)"
   ]
  },
  {
   "cell_type": "code",
   "execution_count": null,
   "metadata": {},
   "outputs": [],
   "source": []
  }
 ],
 "metadata": {
  "kernelspec": {
   "display_name": "Python 3",
   "language": "python",
   "name": "python3"
  },
  "language_info": {
   "codemirror_mode": {
    "name": "ipython",
    "version": 3
   },
   "file_extension": ".py",
   "mimetype": "text/x-python",
   "name": "python",
   "nbconvert_exporter": "python",
   "pygments_lexer": "ipython3",
   "version": "3.7.6"
  }
 },
 "nbformat": 4,
 "nbformat_minor": 4
}
